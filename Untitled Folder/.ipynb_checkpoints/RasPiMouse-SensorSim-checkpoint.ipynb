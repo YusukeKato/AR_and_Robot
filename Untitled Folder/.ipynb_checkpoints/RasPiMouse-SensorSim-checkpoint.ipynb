{
 "cells": [
  {
   "cell_type": "code",
   "execution_count": 68,
   "metadata": {
    "collapsed": true
   },
   "outputs": [],
   "source": [
    "%matplotlib inline\n",
    "import numpy as np\n",
    "import matplotlib.pyplot as plt\n",
    "import math"
   ]
  },
  {
   "cell_type": "code",
   "execution_count": 69,
   "metadata": {
    "collapsed": true
   },
   "outputs": [],
   "source": [
    "class Wall:\n",
    "    def __init__(self, y):\n",
    "        self.pos = y\n",
    "        \n",
    "    def draw(self):\n",
    "        plt.hlines(y=[self.pos], xmin=0, xmax=10, colors='blue', linewidths=1)"
   ]
  },
  {
   "cell_type": "code",
   "execution_count": 83,
   "metadata": {
    "collapsed": true
   },
   "outputs": [],
   "source": [
    "sensor_posi = [8.0, 2.0, 0]\n",
    "marker_posi1 = [0, 0, 0]\n",
    "marker_posi2 = [5.0, 12.0, 0]\n",
    "a = 2.0 # マーカの一辺の半分"
   ]
  },
  {
   "cell_type": "code",
   "execution_count": 84,
   "metadata": {
    "collapsed": true
   },
   "outputs": [],
   "source": [
    "# 計算\n",
    "x1 = sensor_posi[0] - marker_posi1[0]\n",
    "y1 = sensor_posi[1] - marker_posi1[1]\n",
    "x2 = marker_posi2[0] - x1\n",
    "y2 = marker_posi2[1] - y1\n",
    "theta1 = marker_posi2[2] - marker_posi1[2]\n",
    "p = abs(x2 - a*math.sin(theta1 * np.pi / 180.0))\n",
    "q = abs(y2 - a*math.cos(theta1 * np.pi / 180.0))\n",
    "theta2 = math.atan2(q, p) * 180.0 / np.pi\n",
    "s = math.sqrt(p*p + q*q)\n",
    "theta3 = (90 - theta1) + (90 - theta2)\n",
    "d = s * math.sin(theta3 * np.pi/ 180.0)\n",
    "L = d / math.sin((90 - theta1) * np.pi / 180.0)"
   ]
  },
  {
   "cell_type": "code",
   "execution_count": 85,
   "metadata": {
    "collapsed": false
   },
   "outputs": [
    {
     "data": {
      "text/plain": [
       "7.999999999999999"
      ]
     },
     "execution_count": 85,
     "metadata": {},
     "output_type": "execute_result"
    }
   ],
   "source": [
    "L"
   ]
  },
  {
   "cell_type": "code",
   "execution_count": 86,
   "metadata": {
    "collapsed": false
   },
   "outputs": [
    {
     "data": {
      "text/plain": [
       "<matplotlib.quiver.Quiver at 0x1fbfa395a20>"
      ]
     },
     "execution_count": 86,
     "metadata": {},
     "output_type": "execute_result"
    },
    {
     "data": {
      "image/png": "[encoded data removed]",
      "text/plain": [
       "<matplotlib.figure.Figure at 0x1fbfa0b57f0>"
      ]
     },
     "metadata": {},
     "output_type": "display_data"
    }
   ],
   "source": [
    "plt.figure()\n",
    "# 壁\n",
    "wall = Wall(10.0)\n",
    "wall.draw()\n",
    "# マーカとセンサの点\n",
    "plt.plot(sensor_posi[0], sensor_posi[1], 'o')\n",
    "plt.plot(marker_posi1[0], marker_posi1[1], 'o')\n",
    "plt.plot(marker_posi2[0], marker_posi2[1], 'o')\n",
    "# センサ表示\n",
    "u = L*math.cos((90-sensor_posi[2]) * np.pi / 180.0)\n",
    "v = L*math.sin((90-sensor_posi[2]) * np.pi / 180.0)\n",
    "plt.quiver(x1,y1, u, v,angles='xy',scale_units='xy',scale=1)"
   ]
  },
  {
   "cell_type": "code",
   "execution_count": null,
   "metadata": {
    "collapsed": true
   },
   "outputs": [],
   "source": []
  }
 ],
 "metadata": {
  "kernelspec": {
   "display_name": "Python 3",
   "language": "python",
   "name": "python3"
  },
  "language_info": {
   "codemirror_mode": {
    "name": "ipython",
    "version": 3
   },
   "file_extension": ".py",
   "mimetype": "text/x-python",
   "name": "python",
   "nbconvert_exporter": "python",
   "pygments_lexer": "ipython3",
   "version": "3.6.0"
  }
 },
 "nbformat": 4,
 "nbformat_minor": 2
}
