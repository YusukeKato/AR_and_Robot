{
 "cells": [
  {
   "cell_type": "markdown",
   "metadata": {},
   "source": [
    "## ラズパイマウスのセンサが壁を検出するときのシミュレーション"
   ]
  },
  {
   "cell_type": "code",
   "execution_count": 2,
   "metadata": {
    "collapsed": true
   },
   "outputs": [],
   "source": [
    "%matplotlib inline\n",
    "import numpy as np\n",
    "import matplotlib.pyplot as plt\n",
    "import math"
   ]
  },
  {
   "cell_type": "code",
   "execution_count": 318,
   "metadata": {
    "collapsed": true
   },
   "outputs": [],
   "source": [
    "class Wall:\n",
    "    def __init__(self, x, y, r):\n",
    "        self.angle = r\n",
    "        self.x = x\n",
    "        self.y = y\n",
    "        \n",
    "    def draw(self):\n",
    "        x1 = self.x\n",
    "        y1 = self.y\n",
    "        L = 20\n",
    "        x0 = x1 - L * math.cos(-1 * self.angle * np.pi / 180.0)\n",
    "        y0 = y1 - L * math.sin(-1 * self.angle * np.pi / 180.0)\n",
    "        x2 = x1 + L * math.cos(-1 * self.angle * np.pi / 180.0)\n",
    "        y2 = y1 + L * math.sin(-1 * self.angle * np.pi / 180.0)\n",
    "        plt.plot([x0, x2], [y0, y2], 'k-')\n",
    "        plt.hlines(y=20.0, xmin=-20, xmax=20, colors='green', linestyles='dashed', linewidths=1)"
   ]
  },
  {
   "cell_type": "code",
   "execution_count": 319,
   "metadata": {
    "collapsed": true
   },
   "outputs": [],
   "source": [
    "sensor_posi = [6.0, 2.0, 0]\n",
    "marker_posi1 = [0, 0, 0]\n",
    "marker_posi2 = [10.0, 22.0, 10]\n",
    "a = 2.0 # マーカの一辺の半分"
   ]
  },
  {
   "cell_type": "code",
   "execution_count": 322,
   "metadata": {
    "collapsed": false,
    "scrolled": false
   },
   "outputs": [
    {
     "data": {
      "text/plain": [
       "<matplotlib.quiver.Quiver at 0x290ade891d0>"
      ]
     },
     "execution_count": 322,
     "metadata": {},
     "output_type": "execute_result"
    },
    {
     "data": {
      "image/png": "[encoded data removed]",
      "text/plain": [
       "<matplotlib.figure.Figure at 0x290ae0ae358>"
      ]
     },
     "metadata": {},
     "output_type": "display_data"
    }
   ],
   "source": [
    "# 計算\n",
    "x1 = sensor_posi[0] - marker_posi1[0]\n",
    "y1 = sensor_posi[1] - marker_posi1[1]\n",
    "x2 = marker_posi2[0] - x1\n",
    "y2 = marker_posi2[1] - y1\n",
    "theta = marker_posi2[2] - marker_posi1[2]\n",
    "L = y2 + (x2 - a*math.sin(theta*np.pi/180.0)) / math.cos(theta*np.pi/180.0)*math.sin(theta*np.pi/180.0) - (a*math.cos(theta*np.pi/180.0))\n",
    "\n",
    "plt.figure(figsize=(8, 8))\n",
    "# 壁\n",
    "wall = Wall(marker_posi2[0]-a*math.sin(theta*np.pi/180.0), marker_posi2[1]-a*math.cos(theta*np.pi/180.0), marker_posi2[2])\n",
    "wall.draw()\n",
    "# マーカとセンサの点\n",
    "plt.plot(sensor_posi[0], sensor_posi[1], 'o')\n",
    "plt.plot(marker_posi1[0], marker_posi1[1], 's')\n",
    "plt.plot(marker_posi2[0], marker_posi2[1], 's')\n",
    "# センサ表示\n",
    "u = L*math.cos((90-sensor_posi[2]) * np.pi / 180.0)\n",
    "v = L*math.sin((90-sensor_posi[2]) * np.pi / 180.0)\n",
    "plt.quiver(x1,y1, u, v,angles='xy',scale_units='xy',scale=1)"
   ]
  },
  {
   "cell_type": "markdown",
   "metadata": {},
   "source": [
    "注意点\n",
    "\n",
    "このJupyter notebook上では壁の置き方が間違っていることに気付くまでに時間がかかった\n",
    "\n",
    "最初、壁が回転するときに壁の中心で回転させていたが\n",
    "マーカを基準に回転させる必要があった"
   ]
  },
  {
   "cell_type": "code",
   "execution_count": null,
   "metadata": {
    "collapsed": true
   },
   "outputs": [],
   "source": []
  }
 ],
 "metadata": {
  "kernelspec": {
   "display_name": "Python 3",
   "language": "python",
   "name": "python3"
  },
  "language_info": {
   "codemirror_mode": {
    "name": "ipython",
    "version": 3
   },
   "file_extension": ".py",
   "mimetype": "text/x-python",
   "name": "python",
   "nbconvert_exporter": "python",
   "pygments_lexer": "ipython3",
   "version": "3.6.0"
  }
 },
 "nbformat": 4,
 "nbformat_minor": 2
}
