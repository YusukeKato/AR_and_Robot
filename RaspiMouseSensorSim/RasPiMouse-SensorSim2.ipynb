{
 "cells": [
  {
   "cell_type": "code",
   "execution_count": 4,
   "metadata": {
    "collapsed": true
   },
   "outputs": [],
   "source": [
    "%matplotlib inline\n",
    "import numpy as np\n",
    "import matplotlib.pyplot as plt\n",
    "import math"
   ]
  },
  {
   "cell_type": "code",
   "execution_count": 138,
   "metadata": {
    "collapsed": true
   },
   "outputs": [],
   "source": [
    "class Wall:\n",
    "    def __init__(self, r):\n",
    "        self.angle = r\n",
    "        \n",
    "    def draw(self):\n",
    "        x1 = 5\n",
    "        y1 = 10\n",
    "        L = 10\n",
    "        x0 = x1 - L * math.cos(-1 * self.angle * np.pi / 180.0)\n",
    "        y0 = y1 - L * math.sin(-1 * self.angle * np.pi / 180.0)\n",
    "        x2 = x1 + L * math.cos(-1 * self.angle * np.pi / 180.0)\n",
    "        y2 = y1 + L * math.sin(-1 * self.angle * np.pi / 180.0)\n",
    "        plt.plot([x0, x2], [y0, y2], 'k-')"
   ]
  },
  {
   "cell_type": "code",
   "execution_count": 139,
   "metadata": {
    "collapsed": true
   },
   "outputs": [],
   "source": [
    "sensor_posi = [5.0, 2.0, 0]\n",
    "marker_posi1 = [0, 0, 0]\n",
    "marker_posi2 = [5.0, 12.0, 60]\n",
    "a = 2.0 # マーカの一辺の半分\n",
    "if marker_posi2[2] < 0:\n",
    "    marker_posi2[2] = marker_posi2[2] * -1.0"
   ]
  },
  {
   "cell_type": "code",
   "execution_count": 140,
   "metadata": {
    "collapsed": false
   },
   "outputs": [],
   "source": [
    "# 計算\n",
    "x1 = sensor_posi[0] - marker_posi1[0]\n",
    "y1 = sensor_posi[1] - marker_posi1[1]\n",
    "x2 = marker_posi2[0] - x1\n",
    "y2 = marker_posi2[1] - y1\n",
    "theta1 = marker_posi2[2] - marker_posi1[2]\n",
    "p = abs(x2 - a*math.sin(theta1 * np.pi / 180.0))\n",
    "q = abs(y2 - a*math.cos(theta1 * np.pi / 180.0))\n",
    "theta2 = math.atan2(q, p) * 180.0 / np.pi\n",
    "s = math.sqrt(p*p + q*q)\n",
    "theta3 = 180 - theta2 - theta1\n",
    "d = s * math.sin(theta3 * np.pi/ 180.0)\n",
    "L = d / math.sin((90 - theta1) * np.pi / 180.0)"
   ]
  },
  {
   "cell_type": "code",
   "execution_count": 141,
   "metadata": {
    "collapsed": false
   },
   "outputs": [
    {
     "data": {
      "text/plain": [
       "11.999999999999998"
      ]
     },
     "execution_count": 141,
     "metadata": {},
     "output_type": "execute_result"
    }
   ],
   "source": [
    "L"
   ]
  },
  {
   "cell_type": "code",
   "execution_count": 142,
   "metadata": {
    "collapsed": false
   },
   "outputs": [
    {
     "data": {
      "text/plain": [
       "<matplotlib.quiver.Quiver at 0x2b70a2edda0>"
      ]
     },
     "execution_count": 142,
     "metadata": {},
     "output_type": "execute_result"
    },
    {
     "data": {
      "image/png": "[encoded data removed]",
      "text/plain": [
       "<matplotlib.figure.Figure at 0x2b70a120898>"
      ]
     },
     "metadata": {},
     "output_type": "display_data"
    }
   ],
   "source": [
    "plt.figure()\n",
    "# 壁\n",
    "wall = Wall(marker_posi2[2])\n",
    "wall.draw()\n",
    "# マーカとセンサの点\n",
    "plt.plot(sensor_posi[0], sensor_posi[1], 'o')\n",
    "plt.plot(marker_posi1[0], marker_posi1[1], 'o')\n",
    "plt.plot(marker_posi2[0], marker_posi2[1], 'o')\n",
    "plt.plot(10, 15, ',') #サイズ調整用、意味ない\n",
    "# センサ表示\n",
    "u = L*math.cos((90-sensor_posi[2]) * np.pi / 180.0)\n",
    "v = L*math.sin((90-sensor_posi[2]) * np.pi / 180.0)\n",
    "plt.quiver(x1,y1, u, v,angles='xy',scale_units='xy',scale=1)"
   ]
  },
  {
   "cell_type": "code",
   "execution_count": 137,
   "metadata": {
    "collapsed": false
   },
   "outputs": [
    {
     "data": {
      "text/plain": [
       "11.999999999999998"
      ]
     },
     "execution_count": 137,
     "metadata": {},
     "output_type": "execute_result"
    }
   ],
   "source": [
    "v"
   ]
  },
  {
   "cell_type": "code",
   "execution_count": null,
   "metadata": {
    "collapsed": true
   },
   "outputs": [],
   "source": []
  }
 ],
 "metadata": {
  "kernelspec": {
   "display_name": "Python 3",
   "language": "python",
   "name": "python3"
  },
  "language_info": {
   "codemirror_mode": {
    "name": "ipython",
    "version": 3
   },
   "file_extension": ".py",
   "mimetype": "text/x-python",
   "name": "python",
   "nbconvert_exporter": "python",
   "pygments_lexer": "ipython3",
   "version": "3.6.0"
  }
 },
 "nbformat": 4,
 "nbformat_minor": 2
}
